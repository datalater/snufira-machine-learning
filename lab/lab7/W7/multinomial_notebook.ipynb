{
 "cells": [
  {
   "cell_type": "code",
   "execution_count": 1,
   "metadata": {},
   "outputs": [
    {
     "name": "stderr",
     "output_type": "stream",
     "text": [
      "No handlers could be found for logger \"sklearn.datasets.twenty_newsgroups\"\n"
     ]
    },
    {
     "name": "stdout",
     "output_type": "stream",
     "text": [
      "(2034,)\n",
      "(1353,)\n"
     ]
    }
   ],
   "source": [
    "#################\n",
    "### Logistic Regression with Sklearn\n",
    "#################\n",
    "import numpy as np\n",
    "import matplotlib.pyplot as plt\n",
    "import pandas as pd\n",
    "from sklearn import datasets, model_selection, naive_bayes, metrics, preprocessing\n",
    "from sklearn.feature_extraction.text import TfidfVectorizer\n",
    "\n",
    "\n",
    "### define input data\n",
    "categories = [\n",
    "  'alt.atheism',\n",
    "  'talk.religion.misc',\n",
    "  'comp.graphics',\n",
    "  'sci.space' ]\n",
    "\n",
    "data_train = datasets.fetch_20newsgroups(subset='train', categories=categories,\n",
    "                                shuffle=True, random_state=42)\n",
    "\n",
    "data_test = datasets.fetch_20newsgroups(subset='test', categories=categories,\n",
    "                               shuffle=True, random_state=42)\n",
    "\n",
    "\n",
    "print(data_train.target.shape) # number of training samples\n",
    "print(data_test.target.shape) # number of test samples"
   ]
  },
  {
   "cell_type": "code",
   "execution_count": 7,
   "metadata": {},
   "outputs": [
    {
     "name": "stdout",
     "output_type": "stream",
     "text": [
      "From: rych@festival.ed.ac.uk (R Hawkes)\n",
      "Subject: 3DS: Where did all the texture rules go?\n",
      "Lines: 21\n",
      "\n",
      "Hi,\n",
      "\n",
      "I've noticed that if you only save a model (with all your mapping planes\n",
      "positioned carefully) to a .3DS file that when you reload it after restarting\n",
      "3DS, they are given a default position and orientation.  But if you save\n",
      "to a .PRJ file their positions/orientation are preserved.  Does anyone\n",
      "know why this information is not stored in the .3DS file?  Nothing is\n",
      "explicitly said in the manual about saving texture rules in the .PRJ file. \n",
      "I'd like to be able to read the texture rule information, does anyone have \n",
      "the format for the .PRJ file?\n",
      "\n",
      "Is the .CEL file format available from somewhere?\n",
      "\n",
      "Rych\n",
      "\n",
      "======================================================================\n",
      "Rycharde Hawkes\t\t\t\temail: rych@festival.ed.ac.uk\n",
      "Virtual Environment Laboratory\n",
      "Dept. of Psychology\t\t\tTel  : +44 31 650 3426\n",
      "Univ. of Edinburgh\t\t\tFax  : +44 31 667 0150\n",
      "======================================================================\n",
      "\n"
     ]
    }
   ],
   "source": [
    "print(data_train.data[0])"
   ]
  },
  {
   "cell_type": "code",
   "execution_count": 12,
   "metadata": {},
   "outputs": [
    {
     "name": "stdout",
     "output_type": "stream",
     "text": [
      "(2034, 33809)\n"
     ]
    }
   ],
   "source": [
    "### parsing text files\n",
    "vectorizer = TfidfVectorizer(sublinear_tf=True, max_df=0.5, stop_words='english') #Tfidf : text-processing function\n",
    "X_train = vectorizer.fit_transform(data_train.data) # fit(=learning) and transform\n",
    "X_test = vectorizer.transform(data_test.data)\n",
    "\n",
    "print(X_train.shape) # (samples, # features)\n",
    "\n",
    "feature_names = vectorizer.get_feature_names()\n",
    "\n",
    "# make model\n",
    "# alpha: pseudocount\n",
    "model = naive_bayes.MultinomialNB(alpha=0.01)  \n",
    "# alpha smoothing : prior\n",
    "# What alpha does? It's kind of pseudo counting.\n",
    "# Bayesian calculates by multiplication of probabilities,\n",
    "# so if any probability is 0, then all value turns into zero.\n",
    "# so alpha prevents from it.\n",
    "\n",
    "# training model\n",
    "model.fit(X_train, data_train.target)\n",
    "\n",
    "# test model\n",
    "pred = model.predict(X_test)\n",
    "\n",
    "accuracy = metrics.accuracy_score(data_test.target, pred)"
   ]
  },
  {
   "cell_type": "code",
   "execution_count": 11,
   "metadata": {},
   "outputs": [
    {
     "data": {
      "text/plain": [
       "u'00'"
      ]
     },
     "execution_count": 11,
     "metadata": {},
     "output_type": "execute_result"
    }
   ],
   "source": [
    "feature_names[0]"
   ]
  },
  {
   "cell_type": "code",
   "execution_count": null,
   "metadata": {
    "collapsed": true
   },
   "outputs": [],
   "source": []
  }
 ],
 "metadata": {
  "kernelspec": {
   "display_name": "Python 2",
   "language": "python",
   "name": "python2"
  },
  "language_info": {
   "codemirror_mode": {
    "name": "ipython",
    "version": 2
   },
   "file_extension": ".py",
   "mimetype": "text/x-python",
   "name": "python",
   "nbconvert_exporter": "python",
   "pygments_lexer": "ipython2",
   "version": "2.7.13"
  }
 },
 "nbformat": 4,
 "nbformat_minor": 2
}
